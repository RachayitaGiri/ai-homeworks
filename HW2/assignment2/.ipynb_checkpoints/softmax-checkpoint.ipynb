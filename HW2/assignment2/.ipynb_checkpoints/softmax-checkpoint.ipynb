{
 "cells": [
  {
   "cell_type": "markdown",
   "metadata": {},
   "source": [
    "# Softmax exercise\n",
    "\n",
    "*Complete and hand in this completed worksheet (including its outputs and any supporting code outside of the worksheet) with your assignment submission.*\n",
    "\n",
    "This exercise is analogous to the SVM exercise. You will:\n",
    "\n",
    "- implement a fully-vectorized **loss function** for the Softmax classifier\n",
    "- implement the fully-vectorized expression for its **analytic gradient**\n",
    "- **check your implementation** with numerical gradient\n",
    "- use a validation set to **tune the learning rate and regularization** strength\n",
    "- **optimize** the loss function with **SGD**\n",
    "- **visualize** the final learned weights\n"
   ]
  },
  {
   "cell_type": "code",
   "execution_count": 1,
   "metadata": {},
   "outputs": [],
   "source": [
    "from __future__ import print_function\n",
    "\n",
    "import random\n",
    "import numpy as np\n",
    "from cecs551.data_utils import load_CIFAR10\n",
    "import matplotlib.pyplot as plt\n",
    "\n",
    "\n",
    "%matplotlib inline\n",
    "plt.rcParams['figure.figsize'] = (10.0, 8.0) # set default size of plots\n",
    "plt.rcParams['image.interpolation'] = 'nearest'\n",
    "plt.rcParams['image.cmap'] = 'gray'\n",
    "\n",
    "# for auto-reloading extenrnal modules\n",
    "# see http://stackoverflow.com/questions/1907993/autoreload-of-modules-in-ipython\n",
    "%load_ext autoreload\n",
    "%autoreload 2"
   ]
  },
  {
   "cell_type": "code",
   "execution_count": 2,
   "metadata": {},
   "outputs": [
    {
     "name": "stdout",
     "output_type": "stream",
     "text": [
      "Train data shape:  (49000, 3073)\n",
      "Train labels shape:  (49000,)\n",
      "Validation data shape:  (1000, 3073)\n",
      "Validation labels shape:  (1000,)\n",
      "Test data shape:  (1000, 3073)\n",
      "Test labels shape:  (1000,)\n",
      "dev data shape:  (500, 3073)\n",
      "dev labels shape:  (500,)\n"
     ]
    }
   ],
   "source": [
    "def get_CIFAR10_data(num_training=49000, num_validation=1000, num_test=1000, num_dev=500):\n",
    "    \"\"\"\n",
    "    Load the CIFAR-10 dataset from disk and perform preprocessing to prepare\n",
    "    it for the linear classifier. These are the same steps as we used for the\n",
    "    SVM, but condensed to a single function.  \n",
    "    \"\"\"\n",
    "    # Load the raw CIFAR-10 data\n",
    "    cifar10_dir = 'cecs551/datasets/cifar-10-batches-py'\n",
    "    \n",
    "    X_train, y_train, X_test, y_test = load_CIFAR10(cifar10_dir)\n",
    "    \n",
    "    # subsample the data\n",
    "    mask = list(range(num_training, num_training + num_validation))\n",
    "    X_val = X_train[mask]\n",
    "    y_val = y_train[mask]\n",
    "    mask = list(range(num_training))\n",
    "    X_train = X_train[mask]\n",
    "    y_train = y_train[mask]\n",
    "    mask = list(range(num_test))\n",
    "    X_test = X_test[mask]\n",
    "    y_test = y_test[mask]\n",
    "    mask = np.random.choice(num_training, num_dev, replace=False)\n",
    "    X_dev = X_train[mask]\n",
    "    y_dev = y_train[mask]\n",
    "    \n",
    "    # Preprocessing: reshape the image data into rows\n",
    "    X_train = np.reshape(X_train, (X_train.shape[0], -1))\n",
    "    X_val = np.reshape(X_val, (X_val.shape[0], -1))\n",
    "    X_test = np.reshape(X_test, (X_test.shape[0], -1))\n",
    "    X_dev = np.reshape(X_dev, (X_dev.shape[0], -1))\n",
    "    \n",
    "    # Normalize the data: subtract the mean image\n",
    "    mean_image = np.mean(X_train, axis = 0)\n",
    "    X_train -= mean_image\n",
    "    X_val -= mean_image\n",
    "    X_test -= mean_image\n",
    "    X_dev -= mean_image\n",
    "    \n",
    "    # add bias dimension and transform into columns\n",
    "    X_train = np.hstack([X_train, np.ones((X_train.shape[0], 1))])\n",
    "    X_val = np.hstack([X_val, np.ones((X_val.shape[0], 1))])\n",
    "    X_test = np.hstack([X_test, np.ones((X_test.shape[0], 1))])\n",
    "    X_dev = np.hstack([X_dev, np.ones((X_dev.shape[0], 1))])\n",
    "    \n",
    "    return X_train, y_train, X_val, y_val, X_test, y_test, X_dev, y_dev\n",
    "\n",
    "\n",
    "# Cleaning up variables to prevent loading data multiple times (which may cause memory issue)\n",
    "try:\n",
    "   del X_train, y_train\n",
    "   del X_test, y_test\n",
    "   print('Clear previously loaded data.')\n",
    "except:\n",
    "   pass\n",
    "\n",
    "# Invoke the above function to get our data.\n",
    "X_train, y_train, X_val, y_val, X_test, y_test, X_dev, y_dev = get_CIFAR10_data()\n",
    "print('Train data shape: ', X_train.shape)\n",
    "print('Train labels shape: ', y_train.shape)\n",
    "print('Validation data shape: ', X_val.shape)\n",
    "print('Validation labels shape: ', y_val.shape)\n",
    "print('Test data shape: ', X_test.shape)\n",
    "print('Test labels shape: ', y_test.shape)\n",
    "print('dev data shape: ', X_dev.shape)\n",
    "print('dev labels shape: ', y_dev.shape)"
   ]
  },
  {
   "cell_type": "markdown",
   "metadata": {},
   "source": [
    "## Softmax Classifier\n",
    "\n",
    "Your code for this section will all be written inside **cecs551/classifiers/softmax.py**. \n"
   ]
  },
  {
   "cell_type": "code",
   "execution_count": 3,
   "metadata": {},
   "outputs": [
    {
     "name": "stdout",
     "output_type": "stream",
     "text": [
      "loss: 2.296674\n",
      "sanity check: 2.302585\n"
     ]
    }
   ],
   "source": [
    "# First implement the naive softmax loss function with nested loops.\n",
    "# Open the file cecs551/classifiers/softmax.py and implement the\n",
    "# softmax_loss_naive function.\n",
    "\n",
    "from cecs551.classifiers.softmax import softmax_loss_naive\n",
    "import time\n",
    "\n",
    "# Generate a random softmax weight matrix and use it to compute the loss.\n",
    "W = np.random.randn(3073, 10) * 0.0001\n",
    "loss, grad = softmax_loss_naive(W, X_dev, y_dev, 0.0)\n",
    "\n",
    "# As a rough sanity check, our loss should be something close to -log(0.1).\n",
    "print('loss: %f' % loss)\n",
    "print('sanity check: %f' % (-np.log(0.1)))"
   ]
  },
  {
   "cell_type": "markdown",
   "metadata": {},
   "source": [
    "## Inline Question 1:\n",
    "Why do we expect our loss to be close to -log(0.1)? Explain briefly.**\n",
    "\n",
    "**Your answer:**\n",
    "Since we are computing the loss using random weghts, ideally, the probability of each class should be the same. Therefore, if N is the number of classes, then the loss should be close to -log(1/N). In our case, N=10, so the loss is close to -log(1/10) or -log(0.1).\n"
   ]
  },
  {
   "cell_type": "code",
   "execution_count": 4,
   "metadata": {},
   "outputs": [
    {
     "name": "stdout",
     "output_type": "stream",
     "text": [
      "numerical: 1.289348 analytic: 1.289348, relative error: 1.709088e-08\n",
      "numerical: -3.619355 analytic: -3.619355, relative error: 3.706943e-09\n",
      "numerical: 1.578801 analytic: 1.578801, relative error: 3.404887e-08\n",
      "numerical: 0.226509 analytic: 0.226509, relative error: 9.442977e-08\n",
      "numerical: 1.325655 analytic: 1.325655, relative error: 1.874364e-08\n",
      "numerical: -0.140483 analytic: -0.140483, relative error: 3.457554e-07\n",
      "numerical: 0.800280 analytic: 0.800280, relative error: 2.997185e-08\n",
      "numerical: 0.483854 analytic: 0.483854, relative error: 3.591232e-08\n",
      "numerical: -1.520283 analytic: -1.520283, relative error: 2.341672e-08\n",
      "numerical: 1.417484 analytic: 1.417484, relative error: 2.442176e-09\n",
      "numerical: -2.065639 analytic: -2.065639, relative error: 3.612331e-08\n",
      "numerical: 2.386165 analytic: 2.386164, relative error: 1.434089e-08\n",
      "numerical: -1.523805 analytic: -1.523805, relative error: 8.907712e-10\n",
      "numerical: -3.615536 analytic: -3.615536, relative error: 3.333169e-09\n",
      "numerical: -0.548579 analytic: -0.548579, relative error: 2.967956e-08\n",
      "numerical: 0.045685 analytic: 0.045685, relative error: 1.125018e-06\n",
      "numerical: -0.673296 analytic: -0.673296, relative error: 1.073524e-07\n",
      "numerical: 0.398284 analytic: 0.398284, relative error: 1.744499e-09\n",
      "numerical: -2.189052 analytic: -2.189052, relative error: 1.907390e-08\n",
      "numerical: -2.740922 analytic: -2.740923, relative error: 2.334963e-08\n"
     ]
    }
   ],
   "source": [
    "# Complete the implementation of softmax_loss_naive and implement a (naive)\n",
    "# version of the gradient that uses nested loops.\n",
    "loss, grad = softmax_loss_naive(W, X_dev, y_dev, 0.0)\n",
    "\n",
    "# As we did for the SVM, use numeric gradient checking as a debugging tool.\n",
    "# The numeric gradient should be close to the analytic gradient.\n",
    "from cecs551.gradient_check import grad_check_sparse\n",
    "f = lambda w: softmax_loss_naive(w, X_dev, y_dev, 0.0)[0]\n",
    "grad_numerical = grad_check_sparse(f, W, grad, 10)\n",
    "\n",
    "# similar to SVM case, do another gradient check with regularization\n",
    "loss, grad = softmax_loss_naive(W, X_dev, y_dev, 5e1)\n",
    "f = lambda w: softmax_loss_naive(w, X_dev, y_dev, 5e1)[0]\n",
    "grad_numerical = grad_check_sparse(f, W, grad, 10)"
   ]
  },
  {
   "cell_type": "code",
   "execution_count": 5,
   "metadata": {},
   "outputs": [
    {
     "name": "stdout",
     "output_type": "stream",
     "text": [
      "naive loss: 2.296674e+00 computed in 0.112168s\n",
      "vectorized loss: 2.296674e+00 computed in 0.009647s\n",
      "Loss difference: 0.000000\n",
      "Gradient difference: 0.000000\n"
     ]
    }
   ],
   "source": [
    "# Now that we have a naive implementation of the softmax loss function and its gradient,\n",
    "# implement a vectorized version in softmax_loss_vectorized.\n",
    "# The two versions should compute the same results, but the vectorized version should be\n",
    "# much faster.\n",
    "tic = time.time()\n",
    "loss_naive, grad_naive = softmax_loss_naive(W, X_dev, y_dev, 0.000005)\n",
    "toc = time.time()\n",
    "print('naive loss: %e computed in %fs' % (loss_naive, toc - tic))\n",
    "\n",
    "from cecs551.classifiers.softmax import softmax_loss_vectorized\n",
    "tic = time.time()\n",
    "loss_vectorized, grad_vectorized = softmax_loss_vectorized(W, X_dev, y_dev, 0.000005)\n",
    "toc = time.time()\n",
    "print('vectorized loss: %e computed in %fs' % (loss_vectorized, toc - tic))\n",
    "\n",
    "# As we did for the SVM, we use the Frobenius norm to compare the two versions\n",
    "# of the gradient.\n",
    "grad_difference = np.linalg.norm(grad_naive - grad_vectorized, ord='fro')\n",
    "print('Loss difference: %f' % np.abs(loss_naive - loss_vectorized))\n",
    "print('Gradient difference: %f' % grad_difference)"
   ]
  },
  {
   "cell_type": "code",
   "execution_count": 6,
   "metadata": {},
   "outputs": [
    {
     "name": "stdout",
     "output_type": "stream",
     "text": [
      "iteration 0 / 500: loss 6.118354\n",
      "iteration 100 / 500: loss 4.102861\n",
      "iteration 200 / 500: loss 3.659090\n",
      "iteration 300 / 500: loss 3.361591\n",
      "iteration 400 / 500: loss 3.219599\n",
      "iteration 0 / 500: loss 2.947377\n",
      "iteration 100 / 500: loss 3.112109\n",
      "iteration 200 / 500: loss 2.829010\n",
      "iteration 300 / 500: loss 2.897496\n",
      "iteration 400 / 500: loss 2.904348\n",
      "iteration 0 / 500: loss 2.903105\n",
      "iteration 100 / 500: loss 2.913558\n",
      "iteration 200 / 500: loss 2.466831\n",
      "iteration 300 / 500: loss 2.718533\n",
      "iteration 400 / 500: loss 2.650691\n",
      "iteration 0 / 500: loss 2.469878\n",
      "iteration 100 / 500: loss 2.397001\n",
      "iteration 200 / 500: loss 2.457891\n",
      "iteration 300 / 500: loss 2.499691\n",
      "iteration 400 / 500: loss 2.727518\n",
      "iteration 0 / 500: loss 2.404259\n",
      "iteration 100 / 500: loss 2.587829\n",
      "iteration 200 / 500: loss 2.358431\n",
      "iteration 300 / 500: loss 2.699989\n",
      "iteration 400 / 500: loss 2.418017\n",
      "iteration 0 / 500: loss 2.339495\n",
      "iteration 100 / 500: loss 2.308345\n",
      "iteration 200 / 500: loss 2.239205\n",
      "iteration 300 / 500: loss 2.237054\n",
      "iteration 400 / 500: loss 2.170039\n",
      "iteration 0 / 500: loss 2.182216\n",
      "iteration 100 / 500: loss 2.332197\n",
      "iteration 200 / 500: loss 2.043867\n",
      "iteration 300 / 500: loss 2.038416\n",
      "iteration 400 / 500: loss 2.097787\n",
      "iteration 0 / 500: loss 2.068864\n",
      "iteration 100 / 500: loss 2.123518\n",
      "iteration 200 / 500: loss 2.153159\n",
      "iteration 300 / 500: loss 2.397841\n",
      "iteration 400 / 500: loss 2.357440\n",
      "iteration 0 / 500: loss 2.204750\n",
      "iteration 100 / 500: loss 1.939596\n",
      "iteration 200 / 500: loss 2.008496\n",
      "iteration 300 / 500: loss 2.107805\n",
      "iteration 400 / 500: loss 2.054090\n",
      "iteration 0 / 500: loss 1.967894\n",
      "iteration 100 / 500: loss 1.958263\n",
      "iteration 200 / 500: loss 2.048534\n",
      "iteration 300 / 500: loss 1.951652\n",
      "iteration 400 / 500: loss 1.926668\n",
      "iteration 0 / 500: loss 2.172038\n",
      "iteration 100 / 500: loss 2.049372\n",
      "iteration 200 / 500: loss 2.041810\n",
      "iteration 300 / 500: loss 2.175863\n",
      "iteration 400 / 500: loss 1.953092\n",
      "iteration 0 / 500: loss 2.003478\n",
      "iteration 100 / 500: loss 1.879284\n",
      "iteration 200 / 500: loss 1.919356\n",
      "iteration 300 / 500: loss 1.911923\n",
      "iteration 400 / 500: loss 1.890352\n",
      "iteration 0 / 500: loss 2.087779\n",
      "iteration 100 / 500: loss 2.082014\n",
      "iteration 200 / 500: loss 1.995198\n",
      "iteration 300 / 500: loss 2.011420\n",
      "iteration 400 / 500: loss 2.075672\n",
      "iteration 0 / 500: loss 1.855998\n",
      "iteration 100 / 500: loss 1.836810\n",
      "iteration 200 / 500: loss 1.992377\n",
      "iteration 300 / 500: loss 1.677163\n",
      "iteration 400 / 500: loss 1.958344\n",
      "iteration 0 / 500: loss 1.783207\n",
      "iteration 100 / 500: loss 1.879333\n",
      "iteration 200 / 500: loss 1.815057\n",
      "iteration 300 / 500: loss 1.874845\n",
      "iteration 400 / 500: loss 1.935911\n",
      "iteration 0 / 500: loss 1.907388\n",
      "iteration 100 / 500: loss 1.822191\n",
      "iteration 200 / 500: loss 1.805687\n",
      "iteration 300 / 500: loss 1.858822\n",
      "iteration 400 / 500: loss 1.732847\n",
      "lr 1.000000e-07 reg 2.500000e-04 train accuracy: 0.199000 val accuracy: 0.218000\n",
      "lr 1.000000e-07 reg 3.000000e-04 train accuracy: 0.246449 val accuracy: 0.256000\n",
      "lr 1.000000e-07 reg 4.000000e-04 train accuracy: 0.259061 val accuracy: 0.269000\n",
      "lr 1.000000e-07 reg 5.000000e-04 train accuracy: 0.227959 val accuracy: 0.241000\n",
      "lr 3.000000e-07 reg 2.500000e-04 train accuracy: 0.284633 val accuracy: 0.298000\n",
      "lr 3.000000e-07 reg 3.000000e-04 train accuracy: 0.311408 val accuracy: 0.319000\n",
      "lr 3.000000e-07 reg 4.000000e-04 train accuracy: 0.321816 val accuracy: 0.324000\n",
      "lr 3.000000e-07 reg 5.000000e-04 train accuracy: 0.299878 val accuracy: 0.296000\n",
      "lr 4.000000e-07 reg 2.500000e-04 train accuracy: 0.331041 val accuracy: 0.334000\n",
      "lr 4.000000e-07 reg 3.000000e-04 train accuracy: 0.343327 val accuracy: 0.335000\n",
      "lr 4.000000e-07 reg 4.000000e-04 train accuracy: 0.351347 val accuracy: 0.340000\n",
      "lr 4.000000e-07 reg 5.000000e-04 train accuracy: 0.339510 val accuracy: 0.338000\n",
      "lr 5.000000e-07 reg 2.500000e-04 train accuracy: 0.357898 val accuracy: 0.346000\n",
      "lr 5.000000e-07 reg 3.000000e-04 train accuracy: 0.370000 val accuracy: 0.363000\n",
      "lr 5.000000e-07 reg 4.000000e-04 train accuracy: 0.373898 val accuracy: 0.361000\n",
      "lr 5.000000e-07 reg 5.000000e-04 train accuracy: 0.366571 val accuracy: 0.362000\n",
      "best validation accuracy achieved during cross-validation: 0.363000\n"
     ]
    }
   ],
   "source": [
    "# Use the validation set to tune hyperparameters (regularization strength and\n",
    "# learning rate). You should experiment with different ranges for the learning\n",
    "# rates and regularization strengths; if you are careful you should be able to\n",
    "# get a classification accuracy of over 0.35 on the validation set.\n",
    "from cecs551.classifiers import Softmax\n",
    "results = {}\n",
    "best_val = -1\n",
    "best_softmax = None\n",
    "#learning_rates = [1e-7, 5e-7, 1e-4]\n",
    "#regularization_strengths = [2.5e-5, 5e-7, 1e-3]\n",
    "#learning_rates = [1e-7, 5e-5, 1e-3, 1]\n",
    "#regularization_strengths = [2.5e-4, 5e-7]\n",
    "learning_rates = [1e-7, 3e-7, 4e-7, 5e-7]\n",
    "regularization_strengths = [2.5e-4, 5e-4, 3e-4, 4e-4]\n",
    "\n",
    "################################################################################\n",
    "# TODO:                                                                        #\n",
    "# Use the validation set to set the learning rate and regularization strength. #\n",
    "# This should be identical to the validation that you did for the SVM; save    #\n",
    "# the best trained softmax classifer in best_softmax.                          #\n",
    "################################################################################\n",
    "softmax = Softmax() \n",
    "for lr in learning_rates:\n",
    "    #print(\"Learning rate = \", lr)\n",
    "    for rs in regularization_strengths:\n",
    "        #print(\"Regularization strength = \", rs)\n",
    "        lost_hist = []\n",
    "        loss_hist = softmax.train(X_train, y_train, learning_rate=lr, reg=rs,\n",
    "                      num_iters=500, verbose=True)\n",
    "        # training accuracy\n",
    "        y_train_pred = softmax.predict(X_train)\n",
    "        acc_train = np.mean(y_train == y_train_pred)\n",
    "        # validation accuracy\n",
    "        y_val_pred = softmax.predict(X_val)\n",
    "        acc_val = np.mean(y_val == y_val_pred)\n",
    "        # store the best validation accuracy and LinearSVM Object\n",
    "        if (acc_val > best_val):\n",
    "            best_val = acc_val\n",
    "            best_softmax = softmax\n",
    "        results[(lr, rs)] = [acc_train, acc_val]\n",
    "################################################################################\n",
    "#                              END OF YOUR CODE                                #\n",
    "################################################################################\n",
    "    \n",
    "# Print out results.\n",
    "for lr, reg in sorted(results):\n",
    "    train_accuracy, val_accuracy = results[(lr, reg)]\n",
    "    print('lr %e reg %e train accuracy: %f val accuracy: %f' % (\n",
    "                lr, reg, train_accuracy, val_accuracy))\n",
    "    \n",
    "print('best validation accuracy achieved during cross-validation: %f' % best_val)"
   ]
  },
  {
   "cell_type": "code",
   "execution_count": 7,
   "metadata": {},
   "outputs": [
    {
     "name": "stdout",
     "output_type": "stream",
     "text": [
      "softmax on raw pixels final test set accuracy: 0.345000\n"
     ]
    }
   ],
   "source": [
    "# evaluate on test set\n",
    "# Evaluate the best softmax on test set\n",
    "y_test_pred = best_softmax.predict(X_test)\n",
    "test_accuracy = np.mean(y_test == y_test_pred)\n",
    "print('softmax on raw pixels final test set accuracy: %f' % (test_accuracy, ))"
   ]
  },
  {
   "cell_type": "markdown",
   "metadata": {},
   "source": [
    "**Inline Question** - *True or False*\n",
    "\n",
    "It's possible to add a new datapoint to a training set that would leave the SVM loss unchanged, but this is not the case with the Softmax classifier loss.\n",
    "\n",
    "*Your answer*: True\n",
    "\n",
    "*Your explanation*:\n",
    "Since the SVM loss is the Hinge Loss = max(0, scores), the loss depends on individual data points. On the other hand, the Softmax loss is probabilistic by nature and is, therefore, dependent on all the data points to decide the loss. So adding a new data point always affects the loss."
   ]
  },
  {
   "cell_type": "code",
   "execution_count": 8,
   "metadata": {},
   "outputs": [
    {
     "data": {
      "image/png": "[encoded data removed]",
      "text/plain": [
       "<Figure size 432x288 with 10 Axes>"
      ]
     },
     "metadata": {
      "needs_background": "light"
     },
     "output_type": "display_data"
    }
   ],
   "source": [
    "# Visualize the learned weights for each class\n",
    "w = best_softmax.W[:-1,:] # strip out the bias\n",
    "w = w.reshape(32, 32, 3, 10)\n",
    "\n",
    "w_min, w_max = np.min(w), np.max(w)\n",
    "\n",
    "classes = ['plane', 'car', 'bird', 'cat', 'deer', 'dog', 'frog', 'horse', 'ship', 'truck']\n",
    "for i in range(10):\n",
    "    plt.subplot(2, 5, i + 1)\n",
    "    \n",
    "    # Rescale the weights to be between 0 and 255\n",
    "    wimg = 255.0 * (w[:, :, :, i].squeeze() - w_min) / (w_max - w_min)\n",
    "    plt.imshow(wimg.astype('uint8'))\n",
    "    plt.axis('off')\n",
    "    plt.title(classes[i])"
   ]
  }
 ],
 "metadata": {
  "kernelspec": {
   "display_name": "Python 3",
   "language": "python",
   "name": "python3"
  },
  "language_info": {
   "codemirror_mode": {
    "name": "ipython",
    "version": 3
   },
   "file_extension": ".py",
   "mimetype": "text/x-python",
   "name": "python",
   "nbconvert_exporter": "python",
   "pygments_lexer": "ipython3",
   "version": "3.6.7"
  }
 },
 "nbformat": 4,
 "nbformat_minor": 1
}
