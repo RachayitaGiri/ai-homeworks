{
 "cells": [
  {
   "cell_type": "markdown",
   "metadata": {},
   "source": [
    "## Handwritten Image Detection with Keras using MNIST data\n",
    "\n",
    "In this exercise we will work with image data: specifically the famous MNIST data set.  This data set contains 70,000 images of handwritten digits in grayscale (0=black, 255 = white).  The images are 28 pixels by 28 pixels for a total of 784 pixels.  This is quite small by image standards.  Also, the images are well centered and isolated.  This makes this problem solvable with standard fully connected neural nets without too much pre-work."
   ]
  },
  {
   "cell_type": "markdown",
   "metadata": {},
   "source": [
    "In the first part of this notebook, we will walk you through loading in the data, building a network, and training it.  Then it will be your turn to try different models and see if you can improve performance"
   ]
  },
  {
   "cell_type": "code",
   "execution_count": 2,
   "metadata": {},
   "outputs": [
    {
     "name": "stderr",
     "output_type": "stream",
     "text": [
      "Using TensorFlow backend.\n"
     ]
    }
   ],
   "source": [
    "# Preliminaries\n",
    "\n",
    "from __future__ import print_function\n",
    "\n",
    "import keras\n",
    "from keras.datasets import mnist\n",
    "from keras.models import Sequential\n",
    "from keras.layers import Dense, Dropout\n",
    "from keras.optimizers import RMSprop\n",
    "\n",
    "import numpy as np\n",
    "import matplotlib.pyplot as plt\n",
    "%matplotlib inline"
   ]
  },
  {
   "cell_type": "markdown",
   "metadata": {
    "collapsed": true
   },
   "source": [
    "Let's explore the dataset a little bit"
   ]
  },
  {
   "cell_type": "code",
   "execution_count": 3,
   "metadata": {},
   "outputs": [],
   "source": [
    "# Load the data, shuffled and split between train and test sets (x_train and y_rain)\n",
    "(x_train, y_train), (x_test, y_test) = mnist.load_data()"
   ]
  },
  {
   "cell_type": "code",
   "execution_count": 4,
   "metadata": {},
   "outputs": [
    {
     "data": {
      "text/plain": [
       "(28, 28)"
      ]
     },
     "execution_count": 4,
     "metadata": {},
     "output_type": "execute_result"
    }
   ],
   "source": [
    "x_train[0].shape"
   ]
  },
  {
   "cell_type": "code",
   "execution_count": 5,
   "metadata": {},
   "outputs": [
    {
     "data": {
      "text/plain": [
       "array([[  0,   0,   0,   0,   0,   0,   0,   0,   0,   0,   0,   0,   0,\n",
       "          0,   0,   0,   0,   0,   0,   0,   0,   0,   0,   0,   0,   0,\n",
       "          0,   0],\n",
       "       [  0,   0,   0,   0,   0,   0,   0,   0,   0,   0,   0,   0,   0,\n",
       "          0,   0,   0,   0,   0,   0,   0,   0,   0,   0,   0,   0,   0,\n",
       "          0,   0],\n",
       "       [  0,   0,   0,   0,   0,   0,   0,   0,   0,   0,   0,   0,   0,\n",
       "          0,   0,   0,   0,   0,   0,   0,   0,   0,   0,   0,   0,   0,\n",
       "          0,   0],\n",
       "       [  0,   0,   0,   0,   0,   0,   0,   0,   0,   0,   0,   0,   0,\n",
       "          0,   0,   0,   0,   0,   0,   0,   0,   0,   0,   0,   0,   0,\n",
       "          0,   0],\n",
       "       [  0,   0,   0,   0,   0,   0,   0,   0,   0,   0,   0,   0,   0,\n",
       "          0,   0,   0,   0,   0,   0,   0,   0,   0,   0,   0,   0,   0,\n",
       "          0,   0],\n",
       "       [  0,   0,   0,   0,   0,   0,   0,   0,   0,   0,   0,  87, 138,\n",
       "        170, 253, 201, 244, 212, 222, 138,  86,  22,   0,   0,   0,   0,\n",
       "          0,   0],\n",
       "       [  0,   0,   0,   0,   0,   0,   0,   0,   0,   0,  95, 253, 252,\n",
       "        252, 252, 252, 253, 252, 252, 252, 252, 245,  80,   0,   0,   0,\n",
       "          0,   0],\n",
       "       [  0,   0,   0,   0,   0,   0,   0,   0,   0,  68, 246, 205,  69,\n",
       "         69,  69,  69,  69,  69,  69,  69, 205, 253, 240,  50,   0,   0,\n",
       "          0,   0],\n",
       "       [  0,   0,   0,   0,   0,   0,   0,   0,   0, 187, 252, 218,  34,\n",
       "          0,   0,   0,   0,   0,   0,   0, 116, 253, 252,  69,   0,   0,\n",
       "          0,   0],\n",
       "       [  0,   0,   0,   0,   0,   0,   0,   0, 116, 248, 252, 253,  92,\n",
       "          0,   0,   0,   0,   0,   0,  95, 230, 253, 157,   6,   0,   0,\n",
       "          0,   0],\n",
       "       [  0,   0,   0,   0,   0,   0,   0,   0, 116, 249, 253, 189,  42,\n",
       "          0,   0,   0,   0,  36, 170, 253, 243, 158,   0,   0,   0,   0,\n",
       "          0,   0],\n",
       "       [  0,   0,   0,   0,   0,   0,   0,   0,   0, 133, 252, 245, 140,\n",
       "         34,   0,   0,  57, 219, 252, 235,  60,   0,   0,   0,   0,   0,\n",
       "          0,   0],\n",
       "       [  0,   0,   0,   0,   0,   0,   0,   0,   0,  25, 205, 253, 252,\n",
       "        234, 184, 184, 253, 240, 100,  44,   0,   0,   0,   0,   0,   0,\n",
       "          0,   0],\n",
       "       [  0,   0,   0,   0,   0,   0,   0,   0,   0,   0,  21, 161, 219,\n",
       "        252, 252, 252, 234,  37,   0,   0,   0,   0,   0,   0,   0,   0,\n",
       "          0,   0],\n",
       "       [  0,   0,   0,   0,   0,   0,   0,   0,   0,   0,   0,  11, 203,\n",
       "        252, 252, 252, 251, 135,   0,   0,   0,   0,   0,   0,   0,   0,\n",
       "          0,   0],\n",
       "       [  0,   0,   0,   0,   0,   0,   0,   0,   0,   9,  76, 255, 253,\n",
       "        205, 168, 220, 255, 253, 137,   5,   0,   0,   0,   0,   0,   0,\n",
       "          0,   0],\n",
       "       [  0,   0,   0,   0,   0,   0,   0,   0,   0, 114, 252, 249, 132,\n",
       "         25,   0,   0, 180, 252, 252,  45,   0,   0,   0,   0,   0,   0,\n",
       "          0,   0],\n",
       "       [  0,   0,   0,   0,   0,   0,   0,   0,  51, 220, 252, 199,   0,\n",
       "          0,   0,   0,  38, 186, 252, 154,   7,   0,   0,   0,   0,   0,\n",
       "          0,   0],\n",
       "       [  0,   0,   0,   0,   0,   0,   0,   0, 184, 252, 252,  21,   0,\n",
       "          0,   0,   0,   0,  67, 252, 252,  22,   0,   0,   0,   0,   0,\n",
       "          0,   0],\n",
       "       [  0,   0,   0,   0,   0,   0,   0,   0, 184, 252, 200,   0,   0,\n",
       "          0,   0,   0,   0,  47, 252, 252,  22,   0,   0,   0,   0,   0,\n",
       "          0,   0],\n",
       "       [  0,   0,   0,   0,   0,   0,   0,   0, 185, 253, 201,   0,   0,\n",
       "          0,   0,   0,   3, 118, 253, 245,  21,   0,   0,   0,   0,   0,\n",
       "          0,   0],\n",
       "       [  0,   0,   0,   0,   0,   0,   0,   0, 163, 252, 252,   0,   0,\n",
       "          0,   0,   0,  97, 252, 252,  87,   0,   0,   0,   0,   0,   0,\n",
       "          0,   0],\n",
       "       [  0,   0,   0,   0,   0,   0,   0,   0,  51, 240, 252, 123,  70,\n",
       "         70, 112, 184, 222, 252, 170,  13,   0,   0,   0,   0,   0,   0,\n",
       "          0,   0],\n",
       "       [  0,   0,   0,   0,   0,   0,   0,   0,   0, 165, 252, 253, 252,\n",
       "        252, 252, 252, 245, 139,  13,   0,   0,   0,   0,   0,   0,   0,\n",
       "          0,   0],\n",
       "       [  0,   0,   0,   0,   0,   0,   0,   0,   0,   9,  75, 253, 252,\n",
       "        221, 137, 137,  21,   0,   0,   0,   0,   0,   0,   0,   0,   0,\n",
       "          0,   0],\n",
       "       [  0,   0,   0,   0,   0,   0,   0,   0,   0,   0,   0,   0,   0,\n",
       "          0,   0,   0,   0,   0,   0,   0,   0,   0,   0,   0,   0,   0,\n",
       "          0,   0],\n",
       "       [  0,   0,   0,   0,   0,   0,   0,   0,   0,   0,   0,   0,   0,\n",
       "          0,   0,   0,   0,   0,   0,   0,   0,   0,   0,   0,   0,   0,\n",
       "          0,   0],\n",
       "       [  0,   0,   0,   0,   0,   0,   0,   0,   0,   0,   0,   0,   0,\n",
       "          0,   0,   0,   0,   0,   0,   0,   0,   0,   0,   0,   0,   0,\n",
       "          0,   0]], dtype=uint8)"
      ]
     },
     "execution_count": 5,
     "metadata": {},
     "output_type": "execute_result"
    }
   ],
   "source": [
    "#Let's just look at a particular example to see what is inside\n",
    "\n",
    "x_train[333]  ## Just a 28 x 28 numpy array of ints from 0 to 255"
   ]
  },
  {
   "cell_type": "code",
   "execution_count": 6,
   "metadata": {},
   "outputs": [
    {
     "data": {
      "text/plain": [
       "8"
      ]
     },
     "execution_count": 6,
     "metadata": {},
     "output_type": "execute_result"
    }
   ],
   "source": [
    "# What is the corresponding label in the training set?\n",
    "y_train[333]"
   ]
  },
  {
   "cell_type": "code",
   "execution_count": 7,
   "metadata": {},
   "outputs": [
    {
     "data": {
      "text/plain": [
       "<matplotlib.image.AxesImage at 0x1283ad0f0>"
      ]
     },
     "execution_count": 7,
     "metadata": {},
     "output_type": "execute_result"
    },
    {
     "data": {
      "image/png": "[encoded data removed]",
      "text/plain": [
       "<Figure size 432x288 with 1 Axes>"
      ]
     },
     "metadata": {
      "needs_background": "light"
     },
     "output_type": "display_data"
    }
   ],
   "source": [
    "# Let's see what this image actually looks like\n",
    "\n",
    "plt.imshow(x_train[333], cmap='Greys_r')"
   ]
  },
  {
   "cell_type": "code",
   "execution_count": 8,
   "metadata": {},
   "outputs": [
    {
     "name": "stdout",
     "output_type": "stream",
     "text": [
      "(60000, 28, 28) train samples\n",
      "(10000, 28, 28) test samples\n"
     ]
    }
   ],
   "source": [
    "# this is the shape of the np.array x_train\n",
    "# it is 3 dimensional.\n",
    "print(x_train.shape, 'train samples')\n",
    "print(x_test.shape, 'test samples')"
   ]
  },
  {
   "cell_type": "code",
   "execution_count": 9,
   "metadata": {},
   "outputs": [],
   "source": [
    "## For our purposes, these images are just a vector of 784 inputs, so let's convert\n",
    "x_train = x_train.reshape(len(x_train), 28*28)\n",
    "x_test = x_test.reshape(len(x_test), 28*28)\n",
    "\n",
    "## Keras works with floats, so we must cast the numbers to floats\n",
    "x_train = x_train.astype('float32')\n",
    "x_test = x_test.astype('float32')\n",
    "\n",
    "## Normalize the inputs so they are between 0 and 1\n",
    "x_train /= 255\n",
    "x_test /= 255\n"
   ]
  },
  {
   "cell_type": "code",
   "execution_count": 10,
   "metadata": {},
   "outputs": [
    {
     "data": {
      "text/plain": [
       "array([0., 0., 0., 0., 0., 0., 0., 0., 1., 0.], dtype=float32)"
      ]
     },
     "execution_count": 10,
     "metadata": {},
     "output_type": "execute_result"
    }
   ],
   "source": [
    "# convert class vectors to binary class matrices\n",
    "num_classes = 10\n",
    "y_train = keras.utils.to_categorical(y_train, num_classes)\n",
    "y_test = keras.utils.to_categorical(y_test, num_classes)\n",
    "\n",
    "y_train[333]  # now the digit k is represented by a 1 in the kth entry (0-indexed) of the length 10 vector"
   ]
  },
  {
   "cell_type": "code",
   "execution_count": 11,
   "metadata": {},
   "outputs": [
    {
     "name": "stdout",
     "output_type": "stream",
     "text": [
      "WARNING:tensorflow:From /anaconda3/envs/cecs551/lib/python3.6/site-packages/tensorflow/python/framework/op_def_library.py:263: colocate_with (from tensorflow.python.framework.ops) is deprecated and will be removed in a future version.\n",
      "Instructions for updating:\n",
      "Colocations handled automatically by placer.\n",
      "WARNING:tensorflow:From /anaconda3/envs/cecs551/lib/python3.6/site-packages/keras/backend/tensorflow_backend.py:3445: calling dropout (from tensorflow.python.ops.nn_ops) with keep_prob is deprecated and will be removed in a future version.\n",
      "Instructions for updating:\n",
      "Please use `rate` instead of `keep_prob`. Rate should be set to `rate = 1 - keep_prob`.\n"
     ]
    }
   ],
   "source": [
    "# We will build a model with two hidden layers of size 64\n",
    "# Fully connected inputs at each layer\n",
    "# We will use dropout of .2 to help regularize\n",
    "model_1 = Sequential()\n",
    "model_1.add(Dense(64, activation='relu', input_shape=(784,)))\n",
    "model_1.add(Dropout(0.2))\n",
    "model_1.add(Dense(64, activation='relu'))\n",
    "model_1.add(Dropout(0.2))\n",
    "model_1.add(Dense(10, activation='softmax'))"
   ]
  },
  {
   "cell_type": "code",
   "execution_count": 12,
   "metadata": {},
   "outputs": [
    {
     "name": "stdout",
     "output_type": "stream",
     "text": [
      "_________________________________________________________________\n",
      "Layer (type)                 Output Shape              Param #   \n",
      "=================================================================\n",
      "dense_1 (Dense)              (None, 64)                50240     \n",
      "_________________________________________________________________\n",
      "dropout_1 (Dropout)          (None, 64)                0         \n",
      "_________________________________________________________________\n",
      "dense_2 (Dense)              (None, 64)                4160      \n",
      "_________________________________________________________________\n",
      "dropout_2 (Dropout)          (None, 64)                0         \n",
      "_________________________________________________________________\n",
      "dense_3 (Dense)              (None, 10)                650       \n",
      "=================================================================\n",
      "Total params: 55,050\n",
      "Trainable params: 55,050\n",
      "Non-trainable params: 0\n",
      "_________________________________________________________________\n"
     ]
    }
   ],
   "source": [
    "## Note that this model has a LOT of parameters\n",
    "model_1.summary()"
   ]
  },
  {
   "cell_type": "code",
   "execution_count": 13,
   "metadata": {},
   "outputs": [],
   "source": [
    "# Let's compile the model\n",
    "learning_rate = .001\n",
    "model_1.compile(loss='categorical_crossentropy',\n",
    "              optimizer=RMSprop(lr=learning_rate),\n",
    "              metrics=['accuracy'])\n",
    "# note that `categorical cross entropy` is the natural generalization \n",
    "# of the loss function we had in binary classification case, to multi class case"
   ]
  },
  {
   "cell_type": "code",
   "execution_count": 14,
   "metadata": {},
   "outputs": [
    {
     "name": "stdout",
     "output_type": "stream",
     "text": [
      "WARNING:tensorflow:From /anaconda3/envs/cecs551/lib/python3.6/site-packages/tensorflow/python/ops/math_ops.py:3066: to_int32 (from tensorflow.python.ops.math_ops) is deprecated and will be removed in a future version.\n",
      "Instructions for updating:\n",
      "Use tf.cast instead.\n",
      "Train on 60000 samples, validate on 10000 samples\n",
      "Epoch 1/30\n",
      "60000/60000 [==============================] - 1s 24us/step - loss: 0.5123 - acc: 0.8484 - val_loss: 0.2117 - val_acc: 0.9369\n",
      "Epoch 2/30\n",
      "60000/60000 [==============================] - 1s 19us/step - loss: 0.2467 - acc: 0.9285 - val_loss: 0.1557 - val_acc: 0.9532\n",
      "Epoch 3/30\n",
      "60000/60000 [==============================] - 1s 18us/step - loss: 0.1994 - acc: 0.9409 - val_loss: 0.1273 - val_acc: 0.9613\n",
      "Epoch 4/30\n",
      "60000/60000 [==============================] - 1s 18us/step - loss: 0.1698 - acc: 0.9503 - val_loss: 0.1151 - val_acc: 0.9661\n",
      "Epoch 5/30\n",
      "60000/60000 [==============================] - 1s 18us/step - loss: 0.1529 - acc: 0.9557 - val_loss: 0.1059 - val_acc: 0.9685\n",
      "Epoch 6/30\n",
      "60000/60000 [==============================] - 1s 18us/step - loss: 0.1384 - acc: 0.9589 - val_loss: 0.1070 - val_acc: 0.9703\n",
      "Epoch 7/30\n",
      "60000/60000 [==============================] - 1s 18us/step - loss: 0.1308 - acc: 0.9609 - val_loss: 0.1056 - val_acc: 0.9715\n",
      "Epoch 8/30\n",
      "60000/60000 [==============================] - 1s 18us/step - loss: 0.1207 - acc: 0.9640 - val_loss: 0.0995 - val_acc: 0.9730\n",
      "Epoch 9/30\n",
      "60000/60000 [==============================] - 1s 19us/step - loss: 0.1176 - acc: 0.9652 - val_loss: 0.0995 - val_acc: 0.9739\n",
      "Epoch 10/30\n",
      "60000/60000 [==============================] - 1s 18us/step - loss: 0.1141 - acc: 0.9662 - val_loss: 0.1035 - val_acc: 0.9732\n",
      "Epoch 11/30\n",
      "60000/60000 [==============================] - 1s 19us/step - loss: 0.1063 - acc: 0.9680 - val_loss: 0.0969 - val_acc: 0.9746\n",
      "Epoch 12/30\n",
      "60000/60000 [==============================] - 1s 21us/step - loss: 0.1070 - acc: 0.9676 - val_loss: 0.0981 - val_acc: 0.9742\n",
      "Epoch 13/30\n",
      "60000/60000 [==============================] - 1s 21us/step - loss: 0.1033 - acc: 0.9695 - val_loss: 0.0946 - val_acc: 0.9742\n",
      "Epoch 14/30\n",
      "60000/60000 [==============================] - 1s 18us/step - loss: 0.1025 - acc: 0.9699 - val_loss: 0.0950 - val_acc: 0.9756\n",
      "Epoch 15/30\n",
      "60000/60000 [==============================] - 1s 18us/step - loss: 0.0978 - acc: 0.9717 - val_loss: 0.0972 - val_acc: 0.9738\n",
      "Epoch 16/30\n",
      "60000/60000 [==============================] - 1s 18us/step - loss: 0.0967 - acc: 0.9711 - val_loss: 0.0959 - val_acc: 0.9752\n",
      "Epoch 17/30\n",
      "60000/60000 [==============================] - 1s 21us/step - loss: 0.0959 - acc: 0.9724 - val_loss: 0.0972 - val_acc: 0.9753\n",
      "Epoch 18/30\n",
      "60000/60000 [==============================] - 1s 20us/step - loss: 0.0925 - acc: 0.9730 - val_loss: 0.0963 - val_acc: 0.9759\n",
      "Epoch 19/30\n",
      "60000/60000 [==============================] - 1s 20us/step - loss: 0.0900 - acc: 0.9742 - val_loss: 0.0961 - val_acc: 0.9765\n",
      "Epoch 20/30\n",
      "60000/60000 [==============================] - 1s 20us/step - loss: 0.0890 - acc: 0.9741 - val_loss: 0.0950 - val_acc: 0.9754\n",
      "Epoch 21/30\n",
      "60000/60000 [==============================] - 1s 19us/step - loss: 0.0881 - acc: 0.9748 - val_loss: 0.0981 - val_acc: 0.9773\n",
      "Epoch 22/30\n",
      "60000/60000 [==============================] - 1s 18us/step - loss: 0.0846 - acc: 0.9750 - val_loss: 0.1019 - val_acc: 0.9757\n",
      "Epoch 23/30\n",
      "60000/60000 [==============================] - 1s 18us/step - loss: 0.0855 - acc: 0.9754 - val_loss: 0.1042 - val_acc: 0.9769\n",
      "Epoch 24/30\n",
      "60000/60000 [==============================] - 1s 17us/step - loss: 0.0843 - acc: 0.9752 - val_loss: 0.1006 - val_acc: 0.9761\n",
      "Epoch 25/30\n",
      "60000/60000 [==============================] - 1s 18us/step - loss: 0.0862 - acc: 0.9754 - val_loss: 0.1002 - val_acc: 0.9766\n",
      "Epoch 26/30\n",
      "60000/60000 [==============================] - 1s 18us/step - loss: 0.0840 - acc: 0.9761 - val_loss: 0.1048 - val_acc: 0.9769\n",
      "Epoch 27/30\n",
      "60000/60000 [==============================] - 1s 19us/step - loss: 0.0869 - acc: 0.9754 - val_loss: 0.1084 - val_acc: 0.9762\n",
      "Epoch 28/30\n",
      "60000/60000 [==============================] - 1s 19us/step - loss: 0.0849 - acc: 0.9753 - val_loss: 0.1031 - val_acc: 0.9767\n",
      "Epoch 29/30\n",
      "60000/60000 [==============================] - 1s 18us/step - loss: 0.0790 - acc: 0.9770 - val_loss: 0.1112 - val_acc: 0.9762\n",
      "Epoch 30/30\n",
      "60000/60000 [==============================] - 1s 17us/step - loss: 0.0791 - acc: 0.9774 - val_loss: 0.1082 - val_acc: 0.9762\n"
     ]
    }
   ],
   "source": [
    "# And now let's fit.\n",
    "\n",
    "batch_size = 128  # mini-batch with 128 examples\n",
    "epochs = 30\n",
    "history = model_1.fit(\n",
    "    x_train, y_train,\n",
    "    batch_size=batch_size,\n",
    "    epochs=epochs,\n",
    "    verbose=1,\n",
    "    validation_data=(x_test, y_test))"
   ]
  },
  {
   "cell_type": "code",
   "execution_count": 15,
   "metadata": {},
   "outputs": [
    {
     "name": "stdout",
     "output_type": "stream",
     "text": [
      "Test loss: 0.10819254868056233\n",
      "Test accuracy: 0.9762\n"
     ]
    }
   ],
   "source": [
    "## We will use Keras evaluate function to evaluate performance on the test set\n",
    "\n",
    "score = model_1.evaluate(x_test, y_test, verbose=0)\n",
    "print('Test loss:', score[0])\n",
    "print('Test accuracy:', score[1])"
   ]
  },
  {
   "cell_type": "code",
   "execution_count": 16,
   "metadata": {},
   "outputs": [
    {
     "data": {
      "image/png": "[encoded data removed]",
      "text/plain": [
       "<Figure size 864x432 with 2 Axes>"
      ]
     },
     "metadata": {
      "needs_background": "light"
     },
     "output_type": "display_data"
    }
   ],
   "source": [
    "def plot_loss_accuracy(history):\n",
    "    fig = plt.figure(figsize=(12, 6))\n",
    "    ax = fig.add_subplot(1, 2, 1)\n",
    "    ax.plot(history.history[\"loss\"],'r-x', label=\"Train Loss\")\n",
    "    ax.plot(history.history[\"val_loss\"],'b-x', label=\"Validation Loss\")\n",
    "    ax.legend()\n",
    "    ax.set_title('cross_entropy loss')\n",
    "    ax.grid(True)\n",
    "\n",
    "\n",
    "    ax = fig.add_subplot(1, 2, 2)\n",
    "    ax.plot(history.history[\"acc\"],'r-x', label=\"Train Accuracy\")\n",
    "    ax.plot(history.history[\"val_acc\"],'b-x', label=\"Validation Accuracy\")\n",
    "    ax.legend()\n",
    "    ax.set_title('accuracy')\n",
    "    ax.grid(True)\n",
    "    \n",
    "\n",
    "plot_loss_accuracy(history)"
   ]
  },
  {
   "cell_type": "markdown",
   "metadata": {},
   "source": [
    "This is reasonably good performance, but we can do even better!  Next you will build an even bigger network and compare the performance."
   ]
  },
  {
   "cell_type": "markdown",
   "metadata": {},
   "source": [
    "## Exercise\n",
    "### Your Turn: Build your own model\n",
    "Use the Keras \"Sequential\" functionality to build `model_2` with the following specifications:\n",
    "\n",
    "1. Two hidden layers.\n",
    "2. First hidden layer of size 400 and second of size 300\n",
    "3. Dropout of .4 at each layer\n",
    "4. How many parameters does your model have?  How does it compare with the previous model?\n",
    "4. Train this model for 20 epochs with RMSProp at a learning rate of .001 and a batch size of 128\n",
    "\n",
    "\n"
   ]
  },
  {
   "cell_type": "code",
   "execution_count": 17,
   "metadata": {},
   "outputs": [],
   "source": [
    "### Build your model here\n",
    "\n",
    "# Model 2 has two hidden layers of sizes 400 and 300 respectively\n",
    "# Fully connected inputs at each layer\n",
    "# It will use dropout of .4 to help regularize\n",
    "model_2 = Sequential()\n",
    "model_2.add(Dense(400, activation='relu', input_shape=(784,)))\n",
    "model_2.add(Dropout(0.4))\n",
    "model_2.add(Dense(300, activation='relu'))\n",
    "model_2.add(Dropout(0.4))\n",
    "model_2.add(Dense(10, activation='softmax'))"
   ]
  },
  {
   "cell_type": "code",
   "execution_count": 18,
   "metadata": {},
   "outputs": [
    {
     "name": "stdout",
     "output_type": "stream",
     "text": [
      "_________________________________________________________________\n",
      "Layer (type)                 Output Shape              Param #   \n",
      "=================================================================\n",
      "dense_4 (Dense)              (None, 400)               314000    \n",
      "_________________________________________________________________\n",
      "dropout_3 (Dropout)          (None, 400)               0         \n",
      "_________________________________________________________________\n",
      "dense_5 (Dense)              (None, 300)               120300    \n",
      "_________________________________________________________________\n",
      "dropout_4 (Dropout)          (None, 300)               0         \n",
      "_________________________________________________________________\n",
      "dense_6 (Dense)              (None, 10)                3010      \n",
      "=================================================================\n",
      "Total params: 437,310\n",
      "Trainable params: 437,310\n",
      "Non-trainable params: 0\n",
      "_________________________________________________________________\n"
     ]
    }
   ],
   "source": [
    "# Summary of model 2\n",
    "model_2.summary()"
   ]
  },
  {
   "cell_type": "code",
   "execution_count": 19,
   "metadata": {},
   "outputs": [],
   "source": [
    "# We will now compile model 2\n",
    "learning_rate = .001\n",
    "model_2.compile(loss='categorical_crossentropy',\n",
    "              optimizer=RMSprop(lr=learning_rate),\n",
    "              metrics=['accuracy'])"
   ]
  },
  {
   "cell_type": "code",
   "execution_count": 20,
   "metadata": {},
   "outputs": [
    {
     "name": "stdout",
     "output_type": "stream",
     "text": [
      "Train on 60000 samples, validate on 10000 samples\n",
      "Epoch 1/20\n",
      "60000/60000 [==============================] - 4s 59us/step - loss: 0.3289 - acc: 0.9005 - val_loss: 0.1326 - val_acc: 0.9571\n",
      "Epoch 2/20\n",
      "60000/60000 [==============================] - 3s 56us/step - loss: 0.1551 - acc: 0.9539 - val_loss: 0.0904 - val_acc: 0.9728\n",
      "Epoch 3/20\n",
      "60000/60000 [==============================] - 3s 56us/step - loss: 0.1183 - acc: 0.9658 - val_loss: 0.0817 - val_acc: 0.9746\n",
      "Epoch 4/20\n",
      "60000/60000 [==============================] - 4s 58us/step - loss: 0.1042 - acc: 0.9698 - val_loss: 0.0838 - val_acc: 0.9743\n",
      "Epoch 5/20\n",
      "60000/60000 [==============================] - 4s 61us/step - loss: 0.0928 - acc: 0.9732 - val_loss: 0.0728 - val_acc: 0.9793\n",
      "Epoch 6/20\n",
      "60000/60000 [==============================] - 3s 53us/step - loss: 0.0831 - acc: 0.9759 - val_loss: 0.0770 - val_acc: 0.9800\n",
      "Epoch 7/20\n",
      "60000/60000 [==============================] - 3s 54us/step - loss: 0.0779 - acc: 0.9768 - val_loss: 0.0793 - val_acc: 0.9814\n",
      "Epoch 8/20\n",
      "60000/60000 [==============================] - 3s 51us/step - loss: 0.0743 - acc: 0.9789 - val_loss: 0.0823 - val_acc: 0.9797\n",
      "Epoch 9/20\n",
      "60000/60000 [==============================] - 3s 58us/step - loss: 0.0706 - acc: 0.9810 - val_loss: 0.0952 - val_acc: 0.9776\n",
      "Epoch 10/20\n",
      "60000/60000 [==============================] - 3s 55us/step - loss: 0.0672 - acc: 0.9812 - val_loss: 0.0868 - val_acc: 0.9817\n",
      "Epoch 11/20\n",
      "60000/60000 [==============================] - 3s 58us/step - loss: 0.0644 - acc: 0.9816 - val_loss: 0.0870 - val_acc: 0.9795\n",
      "Epoch 12/20\n",
      "60000/60000 [==============================] - 3s 55us/step - loss: 0.0643 - acc: 0.9826 - val_loss: 0.0865 - val_acc: 0.9811\n",
      "Epoch 13/20\n",
      "60000/60000 [==============================] - 3s 53us/step - loss: 0.0612 - acc: 0.9829 - val_loss: 0.0829 - val_acc: 0.9821\n",
      "Epoch 14/20\n",
      "60000/60000 [==============================] - 4s 62us/step - loss: 0.0596 - acc: 0.9846 - val_loss: 0.0869 - val_acc: 0.9828\n",
      "Epoch 15/20\n",
      "60000/60000 [==============================] - 4s 62us/step - loss: 0.0580 - acc: 0.9846 - val_loss: 0.0799 - val_acc: 0.9835\n",
      "Epoch 16/20\n",
      "60000/60000 [==============================] - 3s 54us/step - loss: 0.0587 - acc: 0.9852 - val_loss: 0.0906 - val_acc: 0.9818\n",
      "Epoch 17/20\n",
      "60000/60000 [==============================] - 3s 53us/step - loss: 0.0563 - acc: 0.9852 - val_loss: 0.0885 - val_acc: 0.9832\n",
      "Epoch 18/20\n",
      "60000/60000 [==============================] - 3s 58us/step - loss: 0.0539 - acc: 0.9860 - val_loss: 0.0922 - val_acc: 0.9832\n",
      "Epoch 19/20\n",
      "60000/60000 [==============================] - 3s 58us/step - loss: 0.0512 - acc: 0.9865 - val_loss: 0.0995 - val_acc: 0.9813\n",
      "Epoch 20/20\n",
      "60000/60000 [==============================] - 4s 59us/step - loss: 0.0516 - acc: 0.9865 - val_loss: 0.0965 - val_acc: 0.9836\n"
     ]
    }
   ],
   "source": [
    "# The final step is to fit the model\n",
    "\n",
    "batch_size = 128  # mini-batch with 128 examples\n",
    "epochs = 20       # run the model for 20 epochs\n",
    "history = model_2.fit(\n",
    "    x_train, y_train,\n",
    "    batch_size=batch_size,\n",
    "    epochs=epochs,\n",
    "    verbose=1,\n",
    "    validation_data=(x_test, y_test))"
   ]
  },
  {
   "cell_type": "markdown",
   "metadata": {},
   "source": [
    "## SOLUTION"
   ]
  },
  {
   "cell_type": "code",
   "execution_count": 21,
   "metadata": {},
   "outputs": [
    {
     "name": "stdout",
     "output_type": "stream",
     "text": [
      "Test loss: 0.09645749624104888\n",
      "Test accuracy: 0.9836\n"
     ]
    }
   ],
   "source": [
    "## We will again use Keras to evaluate the performance of our model 2 on the test set\n",
    "score = model_2.evaluate(x_test, y_test, verbose=0)\n",
    "print('Test loss:', score[0])\n",
    "print('Test accuracy:', score[1])"
   ]
  },
  {
   "cell_type": "code",
   "execution_count": 22,
   "metadata": {},
   "outputs": [
    {
     "data": {
      "image/png": "[encoded data removed]",
      "text/plain": [
       "<Figure size 864x432 with 2 Axes>"
      ]
     },
     "metadata": {
      "needs_background": "light"
     },
     "output_type": "display_data"
    }
   ],
   "source": [
    "def plot_loss_accuracy(history):\n",
    "    fig = plt.figure(figsize=(12, 6))\n",
    "    ax = fig.add_subplot(1, 2, 1)\n",
    "    ax.plot(history.history[\"loss\"],'r-x', label=\"Train Loss\")\n",
    "    ax.plot(history.history[\"val_loss\"],'b-x', label=\"Validation Loss\")\n",
    "    ax.legend()\n",
    "    ax.set_title('cross_entropy loss')\n",
    "    ax.grid(True)\n",
    "\n",
    "\n",
    "    ax = fig.add_subplot(1, 2, 2)\n",
    "    ax.plot(history.history[\"acc\"],'r-x', label=\"Train Accuracy\")\n",
    "    ax.plot(history.history[\"val_acc\"],'b-x', label=\"Validation Accuracy\")\n",
    "    ax.legend()\n",
    "    ax.set_title('accuracy')\n",
    "    ax.grid(True)\n",
    "    \n",
    "\n",
    "plot_loss_accuracy(history)"
   ]
  },
  {
   "cell_type": "markdown",
   "metadata": {
    "collapsed": true
   },
   "source": [
    "#### My answer: Model 1 vs Model 2\n",
    "\n",
    "1) model_2 has a total of **437,310** parameters, while model_1 only had **55,050** parameters. This means that model_2 has nearly **8 times** the parameters than model_1.\n",
    "\n",
    "2) Also, model_2 outperformed model_1 on the test set. The accuracy for model_1 was **97.62%** while that of model_2 was **98.28%**."
   ]
  },
  {
   "cell_type": "markdown",
   "metadata": {
    "collapsed": true
   },
   "source": [
    "## Think about the following questions\n",
    "\n",
    "1) How do model_1 and model_2 compare?  Which do you prefer?  If you were going to put one into production, which would you choose and why?\n",
    "\n",
    "2) Compare the trajectories of the loss function on the training set and test set for each model?  How do they compare?  What does that suggest about each model?  Do the same for accuracy?  Which do you think is more meaningful, the loss or the accuracy?\n",
    "\n",
    "3) Suggest an improvement to one of the models (changing structure, learning rate, number of epochs, etc.) that you think will result in a better model.  Try it out below?  Did it improve the performance?"
   ]
  },
  {
   "cell_type": "markdown",
   "metadata": {
    "collapsed": true
   },
   "source": [
    "#### My answers:\n",
    "\n",
    "1) As mentioned above, model_2 outperformed model_1 on the test set by yielding a smaller loss and a better accuracy. I would prefer model_1. If I was going into production, I would have chosen *model_1* because it has significantly **lesser parameters**, and the accuracy is comparable to *model_2*. Had the difference in the accuracy been major, I would have gone with *model_2*, but in this case, it is only **0.74%**.\n",
    "\n",
    "2) Discussion:\n",
    "\n",
    "- **LOSS:** The trajectories of the training loss for both the models are very comparable but *model_2* reaches a smaller loss in lesser number of epochs. The validation loss for *model_1* smoothly hits a minima and then starts to increase. This also happens in *model_2* but is more exaggerated. The exaggeration could be attributed to overfitting. \n",
    "    \n",
    "    \n",
    "- **ACCURACY:** Like the loss, the training accuracies of both the models increase smoothly indicating learning. But the validation accuracy for *model_1* plateaus after a certain point, which shows a **saturation** in the model. On the other hand, *model_2* shows **overfitting** due to the gap between the training and validation accuracy after around 10 epochs. \n",
    "\n",
    "    \n",
    "- I think it is more meaningful to use ***accuracy*** to compare performance since the most important goal of out model is to reduce overfitting, or the gap between the training and validation accuracy. \n",
    "    \n",
    "3) We can use regularization. In my experiments below, following obervations were made:\n",
    "\n",
    "- **Learning Rate**: I tried to compile model_1 with a smaller learning rate (lr = 0.0001) and it perfomed very poorly, giving a test accuracy of **8.92%** and loss of **14.68**. \n",
    "\n",
    "\n",
    "- **Regularization**: In the next experiment, I created my own model with *L2 regularization* in each layer, and it performed similar to model_1, giving an accuracy of **96.78%** and a loss of **0.14**. Although, the best accuracy so far is still achieved by model_2, but model_3 performs the most consistently.\n"
   ]
  },
  {
   "cell_type": "code",
   "execution_count": 30,
   "metadata": {},
   "outputs": [
    {
     "name": "stdout",
     "output_type": "stream",
     "text": [
      "Train on 60000 samples, validate on 10000 samples\n",
      "Epoch 1/30\n",
      "60000/60000 [==============================] - 1s 24us/step - loss: 14.6618 - acc: 0.0904 - val_loss: 14.6804 - val_acc: 0.0892\n",
      "Epoch 2/30\n",
      "60000/60000 [==============================] - 1s 21us/step - loss: 14.6618 - acc: 0.0903 - val_loss: 14.6804 - val_acc: 0.0892\n",
      "Epoch 3/30\n",
      "60000/60000 [==============================] - 1s 21us/step - loss: 14.6618 - acc: 0.0904 - val_loss: 14.6804 - val_acc: 0.0892\n",
      "Epoch 4/30\n",
      "60000/60000 [==============================] - 1s 19us/step - loss: 14.6618 - acc: 0.0904 - val_loss: 14.6804 - val_acc: 0.0892\n",
      "Epoch 5/30\n",
      "60000/60000 [==============================] - 1s 20us/step - loss: 14.6618 - acc: 0.0903 - val_loss: 14.6804 - val_acc: 0.0892\n",
      "Epoch 6/30\n",
      "60000/60000 [==============================] - 1s 20us/step - loss: 14.6618 - acc: 0.0903 - val_loss: 14.6804 - val_acc: 0.0892\n",
      "Epoch 7/30\n",
      "60000/60000 [==============================] - 1s 19us/step - loss: 14.6618 - acc: 0.0903 - val_loss: 14.6804 - val_acc: 0.0892\n",
      "Epoch 8/30\n",
      "60000/60000 [==============================] - 1s 21us/step - loss: 14.6618 - acc: 0.0903 - val_loss: 14.6804 - val_acc: 0.0892\n",
      "Epoch 9/30\n",
      "60000/60000 [==============================] - 1s 20us/step - loss: 14.6618 - acc: 0.0904 - val_loss: 14.6804 - val_acc: 0.0892\n",
      "Epoch 10/30\n",
      "60000/60000 [==============================] - 1s 19us/step - loss: 14.6618 - acc: 0.0903 - val_loss: 14.6804 - val_acc: 0.0892\n",
      "Epoch 11/30\n",
      "60000/60000 [==============================] - 1s 18us/step - loss: 14.6618 - acc: 0.0903 - val_loss: 14.6804 - val_acc: 0.0892\n",
      "Epoch 12/30\n",
      "60000/60000 [==============================] - 1s 20us/step - loss: 14.6618 - acc: 0.0904 - val_loss: 14.6804 - val_acc: 0.0892\n",
      "Epoch 13/30\n",
      "60000/60000 [==============================] - 1s 20us/step - loss: 14.6618 - acc: 0.0903 - val_loss: 14.6804 - val_acc: 0.0892\n",
      "Epoch 14/30\n",
      "60000/60000 [==============================] - 1s 19us/step - loss: 14.6618 - acc: 0.0903 - val_loss: 14.6804 - val_acc: 0.0892\n",
      "Epoch 15/30\n",
      "60000/60000 [==============================] - 1s 18us/step - loss: 14.6618 - acc: 0.0903 - val_loss: 14.6804 - val_acc: 0.0892\n",
      "Epoch 16/30\n",
      "60000/60000 [==============================] - 1s 18us/step - loss: 14.6618 - acc: 0.0904 - val_loss: 14.6804 - val_acc: 0.0892\n",
      "Epoch 17/30\n",
      "60000/60000 [==============================] - 1s 18us/step - loss: 14.6618 - acc: 0.0903 - val_loss: 14.6804 - val_acc: 0.0892\n",
      "Epoch 18/30\n",
      "60000/60000 [==============================] - 1s 19us/step - loss: 14.6618 - acc: 0.0904 - val_loss: 14.6804 - val_acc: 0.0892\n",
      "Epoch 19/30\n",
      "60000/60000 [==============================] - 1s 19us/step - loss: 14.6618 - acc: 0.0903 - val_loss: 14.6804 - val_acc: 0.0892\n",
      "Epoch 20/30\n",
      "60000/60000 [==============================] - 1s 20us/step - loss: 14.6618 - acc: 0.0903 - val_loss: 14.6804 - val_acc: 0.0892\n",
      "Epoch 21/30\n",
      "60000/60000 [==============================] - 1s 19us/step - loss: 14.6618 - acc: 0.0904 - val_loss: 14.6804 - val_acc: 0.0892\n",
      "Epoch 22/30\n",
      "60000/60000 [==============================] - 1s 19us/step - loss: 14.6618 - acc: 0.0903 - val_loss: 14.6804 - val_acc: 0.0892\n",
      "Epoch 23/30\n",
      "60000/60000 [==============================] - 1s 18us/step - loss: 14.6618 - acc: 0.0903 - val_loss: 14.6804 - val_acc: 0.0892\n",
      "Epoch 24/30\n",
      "60000/60000 [==============================] - 1s 18us/step - loss: 14.6618 - acc: 0.0903 - val_loss: 14.6804 - val_acc: 0.0892\n",
      "Epoch 25/30\n",
      "60000/60000 [==============================] - 1s 17us/step - loss: 14.6618 - acc: 0.0903 - val_loss: 14.6804 - val_acc: 0.0892\n",
      "Epoch 26/30\n",
      "60000/60000 [==============================] - 1s 18us/step - loss: 14.6618 - acc: 0.0903 - val_loss: 14.6804 - val_acc: 0.0892\n",
      "Epoch 27/30\n",
      "60000/60000 [==============================] - 1s 19us/step - loss: 14.6618 - acc: 0.0903 - val_loss: 14.6804 - val_acc: 0.0892\n",
      "Epoch 28/30\n",
      "60000/60000 [==============================] - 1s 18us/step - loss: 14.6618 - acc: 0.0903 - val_loss: 14.6804 - val_acc: 0.0892\n",
      "Epoch 29/30\n",
      "60000/60000 [==============================] - 1s 18us/step - loss: 14.6618 - acc: 0.0904 - val_loss: 14.6804 - val_acc: 0.0892\n",
      "Epoch 30/30\n",
      "60000/60000 [==============================] - 1s 19us/step - loss: 14.6618 - acc: 0.0903 - val_loss: 14.6804 - val_acc: 0.0892\n"
     ]
    }
   ],
   "source": [
    "# We will now compile model 1 with a smaller learning rate\n",
    "learning_rate = .0001\n",
    "model_1.compile(loss='categorical_crossentropy',\n",
    "              optimizer=RMSprop(lr=learning_rate),\n",
    "              metrics=['accuracy'])\n",
    "\n",
    "# Fitting the model again\n",
    "batch_size = 128  # mini-batch with 128 examples\n",
    "epochs = 30       # run the model for 30 epochs\n",
    "history = model_1.fit(\n",
    "    x_train, y_train,\n",
    "    batch_size=batch_size,\n",
    "    epochs=epochs,\n",
    "    verbose=1,\n",
    "    validation_data=(x_test, y_test))"
   ]
  },
  {
   "cell_type": "code",
   "execution_count": 31,
   "metadata": {},
   "outputs": [
    {
     "name": "stdout",
     "output_type": "stream",
     "text": [
      "Test loss: 14.680361064147949\n",
      "Test accuracy: 0.0892\n"
     ]
    }
   ],
   "source": [
    "## We will again use Keras to evaluate the performance of our model 2 on the test set\n",
    "score = model_1.evaluate(x_test, y_test, verbose=0)\n",
    "print('Test loss:', score[0])\n",
    "print('Test accuracy:', score[1])"
   ]
  },
  {
   "cell_type": "code",
   "execution_count": 24,
   "metadata": {},
   "outputs": [
    {
     "data": {
      "image/png": "[encoded data removed]",
      "text/plain": [
       "<Figure size 864x432 with 2 Axes>"
      ]
     },
     "metadata": {
      "needs_background": "light"
     },
     "output_type": "display_data"
    }
   ],
   "source": [
    "plot_loss_accuracy(history)"
   ]
  },
  {
   "cell_type": "code",
   "execution_count": 26,
   "metadata": {},
   "outputs": [
    {
     "name": "stdout",
     "output_type": "stream",
     "text": [
      "_________________________________________________________________\n",
      "Layer (type)                 Output Shape              Param #   \n",
      "=================================================================\n",
      "dense_7 (Dense)              (None, 64)                50240     \n",
      "_________________________________________________________________\n",
      "dropout_5 (Dropout)          (None, 64)                0         \n",
      "_________________________________________________________________\n",
      "dense_8 (Dense)              (None, 16)                1040      \n",
      "_________________________________________________________________\n",
      "dense_9 (Dense)              (None, 10)                170       \n",
      "=================================================================\n",
      "Total params: 51,450\n",
      "Trainable params: 51,450\n",
      "Non-trainable params: 0\n",
      "_________________________________________________________________\n"
     ]
    }
   ],
   "source": [
    "# We will now build a completely new model structure\n",
    "model_3 = Sequential()\n",
    "\n",
    "# Model 3 has two hidden layers of sizes 400 and 300 respectively\n",
    "# Fully connected inputs at each layer\n",
    "# It will use dropout of .5 to help regularize\n",
    "# We also use individual layer L2 regularization and it helps in gaining performance\n",
    "model_3.add(Dense(64, activation='relu', input_shape=(784,), kernel_regularizer=keras.regularizers.l2(0.0001)))\n",
    "model_3.add(Dropout(0.5))\n",
    "model_3.add(Dense(16, activation='relu', input_shape=(784,), kernel_regularizer=keras.regularizers.l2(0.0001)))\n",
    "model_2.add(Dropout(0.5))\n",
    "model_3.add(Dense(10, activation='softmax'))\n",
    "\n",
    "# Model architecture and summary\n",
    "model_3.summary()\n"
   ]
  },
  {
   "cell_type": "code",
   "execution_count": 27,
   "metadata": {},
   "outputs": [],
   "source": [
    "# We will now compile model 1 with a smaller learning rate\n",
    "learning_rate = 1e-3\n",
    "model_3.compile(loss='categorical_crossentropy',\n",
    "              optimizer=RMSprop(lr=learning_rate),\n",
    "              metrics=['accuracy'])"
   ]
  },
  {
   "cell_type": "code",
   "execution_count": 28,
   "metadata": {},
   "outputs": [
    {
     "name": "stdout",
     "output_type": "stream",
     "text": [
      "Train on 60000 samples, validate on 10000 samples\n",
      "Epoch 1/30\n",
      "60000/60000 [==============================] - 3s 43us/step - loss: 0.7535 - acc: 0.7753 - val_loss: 0.2947 - val_acc: 0.9196\n",
      "Epoch 2/30\n",
      "60000/60000 [==============================] - 2s 27us/step - loss: 0.4124 - acc: 0.8834 - val_loss: 0.2388 - val_acc: 0.9344\n",
      "Epoch 3/30\n",
      "60000/60000 [==============================] - 2s 27us/step - loss: 0.3603 - acc: 0.8981 - val_loss: 0.2141 - val_acc: 0.9424\n",
      "Epoch 4/30\n",
      "60000/60000 [==============================] - 2s 28us/step - loss: 0.3326 - acc: 0.9071 - val_loss: 0.1937 - val_acc: 0.9480\n",
      "Epoch 5/30\n",
      "60000/60000 [==============================] - 2s 29us/step - loss: 0.3186 - acc: 0.9120 - val_loss: 0.1855 - val_acc: 0.9494\n",
      "Epoch 6/30\n",
      "60000/60000 [==============================] - 2s 26us/step - loss: 0.3037 - acc: 0.9157 - val_loss: 0.1752 - val_acc: 0.9543\n",
      "Epoch 7/30\n",
      "60000/60000 [==============================] - 2s 29us/step - loss: 0.2974 - acc: 0.9177 - val_loss: 0.1690 - val_acc: 0.9566\n",
      "Epoch 8/30\n",
      "60000/60000 [==============================] - 2s 26us/step - loss: 0.2857 - acc: 0.9228 - val_loss: 0.1651 - val_acc: 0.9568\n",
      "Epoch 9/30\n",
      "60000/60000 [==============================] - 2s 29us/step - loss: 0.2809 - acc: 0.9223 - val_loss: 0.1613 - val_acc: 0.9594\n",
      "Epoch 10/30\n",
      "60000/60000 [==============================] - 2s 29us/step - loss: 0.2743 - acc: 0.9250 - val_loss: 0.1579 - val_acc: 0.9601\n",
      "Epoch 11/30\n",
      "60000/60000 [==============================] - 2s 31us/step - loss: 0.2678 - acc: 0.9277 - val_loss: 0.1550 - val_acc: 0.9630\n",
      "Epoch 12/30\n",
      "60000/60000 [==============================] - 2s 29us/step - loss: 0.2658 - acc: 0.9273 - val_loss: 0.1532 - val_acc: 0.9626\n",
      "Epoch 13/30\n",
      "60000/60000 [==============================] - 2s 28us/step - loss: 0.2603 - acc: 0.9301 - val_loss: 0.1546 - val_acc: 0.9649\n",
      "Epoch 14/30\n",
      "60000/60000 [==============================] - 2s 29us/step - loss: 0.2605 - acc: 0.9300 - val_loss: 0.1507 - val_acc: 0.9640\n",
      "Epoch 15/30\n",
      "60000/60000 [==============================] - 2s 27us/step - loss: 0.2587 - acc: 0.9296 - val_loss: 0.1491 - val_acc: 0.9634\n",
      "Epoch 16/30\n",
      "60000/60000 [==============================] - 2s 26us/step - loss: 0.2570 - acc: 0.9306 - val_loss: 0.1460 - val_acc: 0.9651\n",
      "Epoch 17/30\n",
      "60000/60000 [==============================] - 1s 25us/step - loss: 0.2523 - acc: 0.9320 - val_loss: 0.1463 - val_acc: 0.9668\n",
      "Epoch 18/30\n",
      "60000/60000 [==============================] - 1s 25us/step - loss: 0.2479 - acc: 0.9334 - val_loss: 0.1485 - val_acc: 0.9659\n",
      "Epoch 19/30\n",
      "60000/60000 [==============================] - 2s 27us/step - loss: 0.2497 - acc: 0.9330 - val_loss: 0.1468 - val_acc: 0.9668\n",
      "Epoch 20/30\n",
      "60000/60000 [==============================] - 2s 27us/step - loss: 0.2457 - acc: 0.9339 - val_loss: 0.1463 - val_acc: 0.9660\n",
      "Epoch 21/30\n",
      "60000/60000 [==============================] - 2s 26us/step - loss: 0.2440 - acc: 0.9341 - val_loss: 0.1431 - val_acc: 0.9669\n",
      "Epoch 22/30\n",
      "60000/60000 [==============================] - 2s 27us/step - loss: 0.2403 - acc: 0.9358 - val_loss: 0.1470 - val_acc: 0.9659\n",
      "Epoch 23/30\n",
      "60000/60000 [==============================] - 2s 29us/step - loss: 0.2434 - acc: 0.9340 - val_loss: 0.1440 - val_acc: 0.9663\n",
      "Epoch 24/30\n",
      "60000/60000 [==============================] - 2s 27us/step - loss: 0.2405 - acc: 0.9355 - val_loss: 0.1421 - val_acc: 0.9672\n",
      "Epoch 25/30\n",
      "60000/60000 [==============================] - 1s 25us/step - loss: 0.2413 - acc: 0.9351 - val_loss: 0.1416 - val_acc: 0.9682\n",
      "Epoch 26/30\n",
      "60000/60000 [==============================] - 2s 25us/step - loss: 0.2383 - acc: 0.9350 - val_loss: 0.1416 - val_acc: 0.9695\n",
      "Epoch 27/30\n",
      "60000/60000 [==============================] - 1s 24us/step - loss: 0.2384 - acc: 0.9358 - val_loss: 0.1380 - val_acc: 0.9680\n",
      "Epoch 28/30\n",
      "60000/60000 [==============================] - 1s 24us/step - loss: 0.2410 - acc: 0.9366 - val_loss: 0.1390 - val_acc: 0.9690\n",
      "Epoch 29/30\n",
      "60000/60000 [==============================] - 2s 26us/step - loss: 0.2409 - acc: 0.9353 - val_loss: 0.1428 - val_acc: 0.9672\n",
      "Epoch 30/30\n",
      "60000/60000 [==============================] - 2s 25us/step - loss: 0.2365 - acc: 0.9365 - val_loss: 0.1409 - val_acc: 0.9678\n"
     ]
    }
   ],
   "source": [
    "# Fitting the model again\n",
    "batch_size = 128  # mini-batch with 128 examples\n",
    "epochs = 30      \n",
    "history = model_3.fit(\n",
    "    x_train, y_train,\n",
    "    batch_size=batch_size,\n",
    "    epochs=epochs,\n",
    "    verbose=1,\n",
    "    validation_data=(x_test, y_test))"
   ]
  },
  {
   "cell_type": "code",
   "execution_count": 29,
   "metadata": {},
   "outputs": [
    {
     "name": "stdout",
     "output_type": "stream",
     "text": [
      "Test loss: 0.1409323357641697\n",
      "Test accuracy: 0.9678\n"
     ]
    },
    {
     "data": {
      "image/png": "[encoded data removed]",
      "text/plain": [
       "<Figure size 864x432 with 2 Axes>"
      ]
     },
     "metadata": {
      "needs_background": "light"
     },
     "output_type": "display_data"
    }
   ],
   "source": [
    "## We will again use Keras to evaluate the performance of our model 2 on the test set\n",
    "score = model_3.evaluate(x_test, y_test, verbose=0)\n",
    "print('Test loss:', score[0])\n",
    "print('Test accuracy:', score[1])\n",
    "\n",
    "plot_loss_accuracy(history)"
   ]
  }
 ],
 "metadata": {
  "kernelspec": {
   "display_name": "Python 3",
   "language": "python",
   "name": "python3"
  },
  "language_info": {
   "codemirror_mode": {
    "name": "ipython",
    "version": 3
   },
   "file_extension": ".py",
   "mimetype": "text/x-python",
   "name": "python",
   "nbconvert_exporter": "python",
   "pygments_lexer": "ipython3",
   "version": "3.6.7"
  }
 },
 "nbformat": 4,
 "nbformat_minor": 1
}
